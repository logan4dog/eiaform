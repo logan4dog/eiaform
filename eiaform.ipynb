{
 "cells": [
  {
   "cell_type": "code",
   "execution_count": 3,
   "metadata": {},
   "outputs": [
    {
     "ename": "SystemExit",
     "evalue": "0",
     "output_type": "error",
     "traceback": [
      "An exception has occurred, use %tb to see the full traceback.\n",
      "\u001b[0;31mSystemExit\u001b[0m\u001b[0;31m:\u001b[0m 0\n"
     ]
    },
    {
     "name": "stderr",
     "output_type": "stream",
     "text": [
      "/home/james/miniconda3/lib/python3.5/site-packages/IPython/core/interactiveshell.py:2870: UserWarning: To exit: use 'exit', 'quit', or Ctrl-D.\n",
      "  warn(\"To exit: use 'exit', 'quit', or Ctrl-D.\", stacklevel=1)\n"
     ]
    }
   ],
   "source": [
    "# %load eiaform.py\n",
    "from PyQt5 import QtWidgets, QtCore\n",
    "# contains UI from qt designer\n",
    "from eia_ui import Ui_MainWindow\n",
    "import os\n",
    "import re\n",
    "import sys\n",
    "import urllib.request\n",
    "import pprint\n",
    "import json\n",
    "\n",
    "\n",
    "class MainWindow_Exec:\n",
    "    \"\"\"A main window execute class\"\"\"\n",
    "    def __init__(self):\n",
    "        # A qt window class\n",
    "\n",
    "        #self.app = 0\n",
    "        self.app = QtWidgets.QApplication(sys.argv)\n",
    "        self.MainWindow = QtWidgets.QMainWindow()\n",
    "        self.ui = Ui_MainWindow()\n",
    "        self.ui.setupUi(self.MainWindow)\n",
    "\n",
    "        self.update_textedit()\n",
    "        self.MainWindow.show()\n",
    "        sys.exit(self.app.exec_())\n",
    "\n",
    "\n",
    "    def getMainWindow(self):\n",
    "        pass\n",
    "\n",
    "    def eiaf(self,pay):\n",
    "        URL = 'http://api.eia.gov/category/?&api_key='+'E74A9A9CEE9CED02E0AD1992BB74CE33&category_id=711275&'+pay\n",
    "        response =urllib.request.urlopen(URL)\n",
    "        str_response = response.read()\n",
    "        obj = json.loads(str_response.decode('utf-8'))\n",
    "        return obj\n",
    "\n",
    "    def eiaf_str(self,pay):\n",
    "        URL = 'http://api.eia.gov/category/?&api_key='+'E74A9A9CEE9CED02E0AD1992BB74CE33&category_id=711275&'+pay\n",
    "        response =urllib.request.urlopen(URL)\n",
    "        str_response = response.read()\n",
    "        #obj = json.loads(str_response.decode('utf-8'))\n",
    "        pp = pprint.PrettyPrinter(indent=4)\n",
    "        return str_response.decode(\"utf-8\")\n",
    "\n",
    "    def eiaf_header(self):\n",
    "        return \"++++++++++++++++++++++++++++++\"\n",
    "\n",
    "    def te_help(self,s):\n",
    "        self.ui.textEdit.append(s)\n",
    "\n",
    "    def series_dict_out(self,ds):\n",
    "        m = QtCore.QStringListModel()\n",
    "        for x in ds.keys():\n",
    "            self.te_help(x+\":\" + ds[x])\n",
    "        m.setStringList(['One','Two','Three'])\n",
    "        self.ui.listView\n",
    "\n",
    "\n",
    "\n",
    "    def update_textedit(self):\n",
    "        \"\"\"Fill up TextEdit widget with curr dir file name\"\"\"\n",
    "        obj = self.eiaf(\"category_id=41134\")\n",
    "        self.ui.textEdit.setText(\"eia data\")\n",
    "        self.ui.textEdit.append(self.eiaf_header())\n",
    "        s = \"parent category:\"+ obj[\"category\"][\"parent_category_id\"]\n",
    "        self.te_help(s)\n",
    "        for key in obj.keys():\n",
    "            self.ui.textEdit.append(\"obj key:\"+key)\n",
    "        s = \"category name:\"+obj[\"category\"][\"name\"]\n",
    "        self.te_help(s)\n",
    "        self.ui.label.setText(\"Category ID: \"+obj[\"category\"][\"category_id\"])\n",
    "        self.te_help(s)\n",
    "        self.series_dict_out(obj[\"category\"][\"childseries\"][0])\n",
    "        for n in range(len(obj[\"category\"][\"childseries\"])):\n",
    "            self.series_dict_out(obj[\"category\"][\"childseries\"][n])\n",
    "        self.series_dict_out(obj[\"category\"][\"childseries\"][0])\n",
    "        self.ui.textEdit.append(self.eiaf_header())\n",
    "\n",
    "        s = self.eiaf_str(\"category_id=41134\")\n",
    "        self.ui.textEdit.append(s)\n",
    "\n",
    "if __name__ == \"__main__\":\n",
    "    MainWindow_Exec()\n",
    "\n"
   ]
  },
  {
   "cell_type": "code",
   "execution_count": null,
   "metadata": {
    "collapsed": true
   },
   "outputs": [],
   "source": []
  },
  {
   "cell_type": "code",
   "execution_count": null,
   "metadata": {
    "collapsed": true
   },
   "outputs": [],
   "source": []
  }
 ],
 "metadata": {
  "kernelspec": {
   "display_name": "Python [default]",
   "language": "python",
   "name": "python3"
  },
  "language_info": {
   "codemirror_mode": {
    "name": "ipython",
    "version": 3
   },
   "file_extension": ".py",
   "mimetype": "text/x-python",
   "name": "python",
   "nbconvert_exporter": "python",
   "pygments_lexer": "ipython3",
   "version": "3.5.3"
  }
 },
 "nbformat": 4,
 "nbformat_minor": 2
}
